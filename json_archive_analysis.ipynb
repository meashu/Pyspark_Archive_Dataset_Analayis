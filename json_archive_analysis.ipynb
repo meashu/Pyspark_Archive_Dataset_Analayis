{
  "nbformat": 4,
  "nbformat_minor": 0,
  "metadata": {
    "colab": {
      "provenance": [],
      "authorship_tag": "ABX9TyM1BQqA2/y9mFdyTn7oUgPx",
      "include_colab_link": true
    },
    "kernelspec": {
      "name": "python3",
      "display_name": "Python 3"
    },
    "language_info": {
      "name": "python"
    }
  },
  "cells": [
    {
      "cell_type": "markdown",
      "metadata": {
        "id": "view-in-github",
        "colab_type": "text"
      },
      "source": [
        "<a href=\"https://colab.research.google.com/github/meashu/Pyspark_Archive_Dataset_Analayis/blob/main/json_archive_analysis.ipynb\" target=\"_parent\"><img src=\"https://colab.research.google.com/assets/colab-badge.svg\" alt=\"Open In Colab\"/></a>"
      ]
    },
    {
      "cell_type": "code",
      "execution_count": 1,
      "metadata": {
        "colab": {
          "base_uri": "https://localhost:8080/"
        },
        "id": "Zbw6FcFoM1m1",
        "outputId": "b5f6b668-ffe3-4496-b472-eea69832ba74"
      },
      "outputs": [
        {
          "output_type": "stream",
          "name": "stdout",
          "text": [
            "Collecting pyspark\n",
            "  Downloading pyspark-3.5.0.tar.gz (316.9 MB)\n",
            "\u001b[2K     \u001b[90m━━━━━━━━━━━━━━━━━━━━━━━━━━━━━━━━━━━━━━━━\u001b[0m \u001b[32m316.9/316.9 MB\u001b[0m \u001b[31m3.6 MB/s\u001b[0m eta \u001b[36m0:00:00\u001b[0m\n",
            "\u001b[?25h  Preparing metadata (setup.py) ... \u001b[?25l\u001b[?25hdone\n",
            "Requirement already satisfied: py4j==0.10.9.7 in /usr/local/lib/python3.10/dist-packages (from pyspark) (0.10.9.7)\n",
            "Building wheels for collected packages: pyspark\n",
            "  Building wheel for pyspark (setup.py) ... \u001b[?25l\u001b[?25hdone\n",
            "  Created wheel for pyspark: filename=pyspark-3.5.0-py2.py3-none-any.whl size=317425345 sha256=5294cfc8730ce8afac69ffd450ba5bb87fe3b0a570802631d9b7375d296f2c8a\n",
            "  Stored in directory: /root/.cache/pip/wheels/41/4e/10/c2cf2467f71c678cfc8a6b9ac9241e5e44a01940da8fbb17fc\n",
            "Successfully built pyspark\n",
            "Installing collected packages: pyspark\n",
            "Successfully installed pyspark-3.5.0\n"
          ]
        }
      ],
      "source": [
        "!pip install pyspark"
      ]
    },
    {
      "cell_type": "code",
      "source": [
        "from pyspark.sql import SparkSession\n",
        "from pyspark.sql.functions import *\n",
        "\n",
        "spark=SparkSession.builder.appName('Practice-DF').getOrCreate()"
      ],
      "metadata": {
        "id": "ReUngtevM9h3"
      },
      "execution_count": 11,
      "outputs": []
    },
    {
      "cell_type": "code",
      "source": [],
      "metadata": {
        "id": "QVsvQNDcRQLZ"
      },
      "execution_count": null,
      "outputs": []
    },
    {
      "cell_type": "markdown",
      "source": [
        "\n",
        "**### Working with Json ###**"
      ],
      "metadata": {
        "id": "9L-PVL-tTkXI"
      }
    },
    {
      "cell_type": "code",
      "source": [
        "! pip install kaggle"
      ],
      "metadata": {
        "colab": {
          "base_uri": "https://localhost:8080/"
        },
        "id": "zT8xD9H8Tq2r",
        "outputId": "da38506c-ad48-4fa2-8ae0-13d1a855fab7"
      },
      "execution_count": 23,
      "outputs": [
        {
          "output_type": "stream",
          "name": "stdout",
          "text": [
            "Requirement already satisfied: kaggle in /usr/local/lib/python3.10/dist-packages (1.5.16)\n",
            "Requirement already satisfied: six>=1.10 in /usr/local/lib/python3.10/dist-packages (from kaggle) (1.16.0)\n",
            "Requirement already satisfied: certifi in /usr/local/lib/python3.10/dist-packages (from kaggle) (2024.2.2)\n",
            "Requirement already satisfied: python-dateutil in /usr/local/lib/python3.10/dist-packages (from kaggle) (2.8.2)\n",
            "Requirement already satisfied: requests in /usr/local/lib/python3.10/dist-packages (from kaggle) (2.31.0)\n",
            "Requirement already satisfied: tqdm in /usr/local/lib/python3.10/dist-packages (from kaggle) (4.66.1)\n",
            "Requirement already satisfied: python-slugify in /usr/local/lib/python3.10/dist-packages (from kaggle) (8.0.3)\n",
            "Requirement already satisfied: urllib3 in /usr/local/lib/python3.10/dist-packages (from kaggle) (2.0.7)\n",
            "Requirement already satisfied: bleach in /usr/local/lib/python3.10/dist-packages (from kaggle) (6.1.0)\n",
            "Requirement already satisfied: webencodings in /usr/local/lib/python3.10/dist-packages (from bleach->kaggle) (0.5.1)\n",
            "Requirement already satisfied: text-unidecode>=1.3 in /usr/local/lib/python3.10/dist-packages (from python-slugify->kaggle) (1.3)\n",
            "Requirement already satisfied: charset-normalizer<4,>=2 in /usr/local/lib/python3.10/dist-packages (from requests->kaggle) (3.3.2)\n",
            "Requirement already satisfied: idna<4,>=2.5 in /usr/local/lib/python3.10/dist-packages (from requests->kaggle) (3.6)\n"
          ]
        }
      ]
    },
    {
      "cell_type": "code",
      "source": [
        "! mkdir ~/.kaggle"
      ],
      "metadata": {
        "id": "o2cJP5r9UnmJ"
      },
      "execution_count": 24,
      "outputs": []
    },
    {
      "cell_type": "code",
      "source": [
        "! cp kaggle.json ~/.kaggle/"
      ],
      "metadata": {
        "id": "z1SlRbChVkph"
      },
      "execution_count": 25,
      "outputs": []
    },
    {
      "cell_type": "code",
      "source": [
        "! chmod 600 ~/.kaggle/kaggle.json"
      ],
      "metadata": {
        "id": "n5WD8ZkYVpEM"
      },
      "execution_count": 26,
      "outputs": []
    },
    {
      "cell_type": "code",
      "source": [
        "! kaggle datasets download Cornell-University/arxiv"
      ],
      "metadata": {
        "colab": {
          "base_uri": "https://localhost:8080/"
        },
        "id": "XTR4JK9vVqUU",
        "outputId": "286eeaf9-4048-496c-87b5-cbbd42e81097"
      },
      "execution_count": 28,
      "outputs": [
        {
          "output_type": "stream",
          "name": "stdout",
          "text": [
            "Downloading arxiv.zip to /content\n",
            "100% 1.25G/1.25G [00:16<00:00, 52.8MB/s]\n",
            "100% 1.25G/1.25G [00:16<00:00, 82.2MB/s]\n"
          ]
        }
      ]
    },
    {
      "cell_type": "code",
      "source": [
        "! unzip /content/arxiv.zip"
      ],
      "metadata": {
        "colab": {
          "base_uri": "https://localhost:8080/"
        },
        "id": "FuN1U-YkWEj9",
        "outputId": "aab87943-d592-453e-835c-32c897d08744"
      },
      "execution_count": 29,
      "outputs": [
        {
          "output_type": "stream",
          "name": "stdout",
          "text": [
            "Archive:  /content/arxiv.zip\n",
            "  inflating: arxiv-metadata-oai-snapshot.json  \n"
          ]
        }
      ]
    },
    {
      "cell_type": "code",
      "source": [
        "df=spark.read.format('json').load('/content/arxiv-metadata-oai-snapshot.json')"
      ],
      "metadata": {
        "id": "3Gq_d2oPWXBz"
      },
      "execution_count": 30,
      "outputs": []
    },
    {
      "cell_type": "code",
      "source": [
        "df.printSchema()"
      ],
      "metadata": {
        "colab": {
          "base_uri": "https://localhost:8080/"
        },
        "id": "0QPHWpNkWrmn",
        "outputId": "1020fd40-d5f0-410d-8a18-4933f9469911"
      },
      "execution_count": 32,
      "outputs": [
        {
          "output_type": "stream",
          "name": "stdout",
          "text": [
            "root\n",
            " |-- abstract: string (nullable = true)\n",
            " |-- authors: string (nullable = true)\n",
            " |-- authors_parsed: array (nullable = true)\n",
            " |    |-- element: array (containsNull = true)\n",
            " |    |    |-- element: string (containsNull = true)\n",
            " |-- categories: string (nullable = true)\n",
            " |-- comments: string (nullable = true)\n",
            " |-- doi: string (nullable = true)\n",
            " |-- id: string (nullable = true)\n",
            " |-- journal-ref: string (nullable = true)\n",
            " |-- license: string (nullable = true)\n",
            " |-- report-no: string (nullable = true)\n",
            " |-- submitter: string (nullable = true)\n",
            " |-- title: string (nullable = true)\n",
            " |-- update_date: string (nullable = true)\n",
            " |-- versions: array (nullable = true)\n",
            " |    |-- element: struct (containsNull = true)\n",
            " |    |    |-- created: string (nullable = true)\n",
            " |    |    |-- version: string (nullable = true)\n",
            "\n"
          ]
        }
      ]
    },
    {
      "cell_type": "code",
      "source": [
        "#Checking Number of partitions\n",
        "df.rdd.getNumPartitions(),"
      ],
      "metadata": {
        "colab": {
          "base_uri": "https://localhost:8080/"
        },
        "id": "QFI5kdKWW-af",
        "outputId": "b0d03592-1d8e-4fa0-f10e-ad81cea82464"
      },
      "execution_count": 34,
      "outputs": [
        {
          "output_type": "execute_result",
          "data": {
            "text/plain": [
              "31"
            ]
          },
          "metadata": {},
          "execution_count": 34
        }
      ]
    },
    {
      "cell_type": "code",
      "source": [
        "#Create a  new Schema\n",
        "\n",
        "from pyspark.sql.types import *\n",
        "\n",
        "Schema=StructType([\n",
        "    StructField('abstract',StringType(),True),\n",
        "    StructField('authors',StringType(),True),\n",
        "    StructField('categories',StringType(),True),\n",
        "    StructField('license',StringType(),True),\n",
        "    StructField('comments',StringType(),True),\n",
        "    StructField('versions',ArrayType(StringType()),True),\n",
        "])"
      ],
      "metadata": {
        "id": "drxFXGGSXRmH"
      },
      "execution_count": 36,
      "outputs": []
    },
    {
      "cell_type": "code",
      "source": [
        "print(Schema)"
      ],
      "metadata": {
        "colab": {
          "base_uri": "https://localhost:8080/"
        },
        "id": "FLFBM8iFYTIt",
        "outputId": "7d4528b3-a8e7-4830-9fb1-50b1cf66efb8"
      },
      "execution_count": 37,
      "outputs": [
        {
          "output_type": "stream",
          "name": "stdout",
          "text": [
            "StructType([StructField('abstract', StringType(), True), StructField('authors', StringType(), True), StructField('categories', StringType(), True), StructField('license', StringType(), True), StructField('comments', StringType(), True), StructField('versions', ArrayType(StringType(), True), True)])\n"
          ]
        }
      ]
    },
    {
      "cell_type": "code",
      "source": [
        "#read data again with our schema\n",
        "\n",
        "df=spark.read.format('json').load('/content/arxiv-metadata-oai-snapshot.json',schema=Schema,header=True)"
      ],
      "metadata": {
        "id": "JW3Q9aVtYyfM"
      },
      "execution_count": 38,
      "outputs": []
    },
    {
      "cell_type": "code",
      "source": [
        "df.show()"
      ],
      "metadata": {
        "colab": {
          "base_uri": "https://localhost:8080/"
        },
        "id": "NyC3nK8yZE4V",
        "outputId": "b2f24953-eda4-47ea-be73-138ebc6cb20e"
      },
      "execution_count": 39,
      "outputs": [
        {
          "output_type": "stream",
          "name": "stdout",
          "text": [
            "+--------------------+--------------------+-----------------+--------------------+--------------------+--------------------+\n",
            "|            abstract|             authors|       categories|             license|            comments|            versions|\n",
            "+--------------------+--------------------+-----------------+--------------------+--------------------+--------------------+\n",
            "|  A fully differe...|C. Bal\\'azs, E. L...|           hep-ph|                NULL|37 pages, 15 figu...|[{\"version\":\"v1\",...|\n",
            "|  We describe a n...|Ileana Streinu an...|    math.CO cs.CG|http://arxiv.org/...|To appear in Grap...|[{\"version\":\"v1\",...|\n",
            "|  The evolution o...|         Hongjun Pan|   physics.gen-ph|                NULL| 23 pages, 3 figures|[{\"version\":\"v1\",...|\n",
            "|  We show that a ...|        David Callan|          math.CO|                NULL|            11 pages|[{\"version\":\"v1\",...|\n",
            "|  In this paper w...|Wael Abu-Shammala...|  math.CA math.FA|                NULL|                NULL|[{\"version\":\"v1\",...|\n",
            "|  We study the tw...|Y. H. Pong and C....|cond-mat.mes-hall|                NULL|6 pages, 4 figure...|[{\"version\":\"v1\",...|\n",
            "|  A rather non-st...|Alejandro Corichi...|            gr-qc|                NULL|16 pages, no figu...|[{\"version\":\"v1\",...|\n",
            "|  A general formu...|     Damian C. Swift|cond-mat.mtrl-sci|http://arxiv.org/...|   Minor corrections|[{\"version\":\"v1\",...|\n",
            "|  We discuss the ...|Paul Harvey, Brun...|         astro-ph|                NULL|                NULL|[{\"version\":\"v1\",...|\n",
            "|  Partial cubes a...|  Sergei Ovchinnikov|          math.CO|                NULL|36 pages, 17 figures|[{\"version\":\"v1\",...|\n",
            "|  In this paper w...|Clifton Cunningha...|  math.NT math.AG|http://arxiv.org/...|14 pages; title c...|[{\"version\":\"v1\",...|\n",
            "|  Recently, Bruin...|         Dohoon Choi|          math.NT|                NULL|                NULL|[{\"version\":\"v1\",...|\n",
            "|  Serre obtained ...|Dohoon Choi and Y...|          math.NT|                NULL|                NULL|[{\"version\":\"v1\",...|\n",
            "|  In this article...|        Koichi Fujii|  math.CA math.AT|                NULL|  18 pages, 1 figure|[{\"version\":\"v1\",...|\n",
            "|  The pure spinor...|     Christian Stahn|           hep-th|                NULL|22 pages; signs a...|[{\"version\":\"v1\",...|\n",
            "|  In this work, w...|Chao-Hsi Chang, T...|           hep-ph|                NULL|17 pages, 3 figur...|[{\"version\":\"v1\",...|\n",
            "|  Results from sp...|Nceba Mhlahlo, Da...|         astro-ph|                NULL|10 pages, 11 figu...|[{\"version\":\"v1\",...|\n",
            "|  We give a presc...|  Andreas Gustavsson|           hep-th|                NULL|20 pages, v2: an ...|[{\"version\":\"v1\",...|\n",
            "|  In this note we...|         Norio Konno|  math.PR math.AG|                NULL|6 pages, Journal-...|[{\"version\":\"v1\",...|\n",
            "|  The shape of th...|The BABAR Collabo...|           hep-ex|                NULL|21 pages, 13 post...|[{\"version\":\"v1\",...|\n",
            "+--------------------+--------------------+-----------------+--------------------+--------------------+--------------------+\n",
            "only showing top 20 rows\n",
            "\n"
          ]
        }
      ]
    },
    {
      "cell_type": "code",
      "source": [
        "#It will delete the values with null in comments\n",
        "df=df.dropna(subset=['comments'])\n",
        "\n",
        "#It will replace null with unknown for column license\n",
        "df=df.fillna(value=\"unknown\",subset=['license'])"
      ],
      "metadata": {
        "id": "Su1CiS6eZMgz"
      },
      "execution_count": 41,
      "outputs": []
    },
    {
      "cell_type": "code",
      "source": [
        "df.show()"
      ],
      "metadata": {
        "colab": {
          "base_uri": "https://localhost:8080/"
        },
        "id": "_hBCBueiZq6I",
        "outputId": "00b1a0f5-c968-4bf5-ee57-3db90a3743e3"
      },
      "execution_count": 42,
      "outputs": [
        {
          "output_type": "stream",
          "name": "stdout",
          "text": [
            "+--------------------+--------------------+--------------------+--------------------+--------------------+--------------------+\n",
            "|            abstract|             authors|          categories|             license|            comments|            versions|\n",
            "+--------------------+--------------------+--------------------+--------------------+--------------------+--------------------+\n",
            "|  A fully differe...|C. Bal\\'azs, E. L...|              hep-ph|             unknown|37 pages, 15 figu...|[{\"version\":\"v1\",...|\n",
            "|  We describe a n...|Ileana Streinu an...|       math.CO cs.CG|http://arxiv.org/...|To appear in Grap...|[{\"version\":\"v1\",...|\n",
            "|  The evolution o...|         Hongjun Pan|      physics.gen-ph|             unknown| 23 pages, 3 figures|[{\"version\":\"v1\",...|\n",
            "|  We show that a ...|        David Callan|             math.CO|             unknown|            11 pages|[{\"version\":\"v1\",...|\n",
            "|  We study the tw...|Y. H. Pong and C....|   cond-mat.mes-hall|             unknown|6 pages, 4 figure...|[{\"version\":\"v1\",...|\n",
            "|  A rather non-st...|Alejandro Corichi...|               gr-qc|             unknown|16 pages, no figu...|[{\"version\":\"v1\",...|\n",
            "|  A general formu...|     Damian C. Swift|   cond-mat.mtrl-sci|http://arxiv.org/...|   Minor corrections|[{\"version\":\"v1\",...|\n",
            "|  Partial cubes a...|  Sergei Ovchinnikov|             math.CO|             unknown|36 pages, 17 figures|[{\"version\":\"v1\",...|\n",
            "|  In this paper w...|Clifton Cunningha...|     math.NT math.AG|http://arxiv.org/...|14 pages; title c...|[{\"version\":\"v1\",...|\n",
            "|  In this article...|        Koichi Fujii|     math.CA math.AT|             unknown|  18 pages, 1 figure|[{\"version\":\"v1\",...|\n",
            "|  The pure spinor...|     Christian Stahn|              hep-th|             unknown|22 pages; signs a...|[{\"version\":\"v1\",...|\n",
            "|  In this work, w...|Chao-Hsi Chang, T...|              hep-ph|             unknown|17 pages, 3 figur...|[{\"version\":\"v1\",...|\n",
            "|  Results from sp...|Nceba Mhlahlo, Da...|            astro-ph|             unknown|10 pages, 11 figu...|[{\"version\":\"v1\",...|\n",
            "|  We give a presc...|  Andreas Gustavsson|              hep-th|             unknown|20 pages, v2: an ...|[{\"version\":\"v1\",...|\n",
            "|  In this note we...|         Norio Konno|     math.PR math.AG|             unknown|6 pages, Journal-...|[{\"version\":\"v1\",...|\n",
            "|  The shape of th...|The BABAR Collabo...|              hep-ex|             unknown|21 pages, 13 post...|[{\"version\":\"v1\",...|\n",
            "|  Spatiotemporal ...|Vanessa Casagrand...|nlin.PS physics.c...|             unknown|  5 pages, 4 figures|[{\"version\":\"v1\",...|\n",
            "|  We present Lie ...|Simon J.A. Malham...|             math.NA|             unknown| 20 pages, 4 figures|[{\"version\":\"v1\",...|\n",
            "|  The very nature...|M. A. Loukitcheva...|            astro-ph|             unknown|4 pages, 2 figure...|[{\"version\":\"v1\",...|\n",
            "|  The formation o...|A.A. Serga, M. Ko...|             nlin.PS|             unknown|First appeared in...|[{\"version\":\"v1\",...|\n",
            "+--------------------+--------------------+--------------------+--------------------+--------------------+--------------------+\n",
            "only showing top 20 rows\n",
            "\n"
          ]
        }
      ]
    },
    {
      "cell_type": "code",
      "source": [
        "#KPI 1-  Get author name who published a paper in a 'math' category\n",
        "\n",
        "df.select(col('authors')).filter(col('categories').like('%math%')).show(truncate=False)\n",
        "\n",
        "\n",
        "df.createOrReplaceTempView('Archive')\n",
        "sql_query=\"\"\"\n",
        "              Select authors from Archive where categories like '%math%'\n",
        "          \"\"\"\n",
        "\n",
        "result=spark.sql(sql_query)\n",
        "result.show(truncate=False)\n"
      ],
      "metadata": {
        "colab": {
          "base_uri": "https://localhost:8080/"
        },
        "id": "obewcPWJZxLi",
        "outputId": "fbfd443a-ffc9-46e3-83d5-afebe977eb20"
      },
      "execution_count": 49,
      "outputs": [
        {
          "output_type": "stream",
          "name": "stdout",
          "text": [
            "+--------------------+\n",
            "|             authors|\n",
            "+--------------------+\n",
            "|Ileana Streinu an...|\n",
            "|        David Callan|\n",
            "|  Sergei Ovchinnikov|\n",
            "|Clifton Cunningha...|\n",
            "|        Koichi Fujii|\n",
            "|         Norio Konno|\n",
            "|Simon J.A. Malham...|\n",
            "|Robert P. C. de M...|\n",
            "|  P\\'eter E. Frenkel|\n",
            "|          Mihai Popa|\n",
            "|   Debashish Goswami|\n",
            "|I. Csiszar, F. Hi...|\n",
            "|      Mikkel {\\O}bro|\n",
            "|Nabil L. Youssef,...|\n",
            "|         Boris Rubin|\n",
            "|         A. I. Molev|\n",
            "| Branko J. Malesevic|\n",
            "|   John W. Robertson|\n",
            "|     Yu.N. Kosovtsov|\n",
            "|        Osamu Fujino|\n",
            "+--------------------+\n",
            "only showing top 20 rows\n",
            "\n",
            "+--------------------------------------------+\n",
            "|authors                                     |\n",
            "+--------------------------------------------+\n",
            "|Ileana Streinu and Louis Theran             |\n",
            "|David Callan                                |\n",
            "|Sergei Ovchinnikov                          |\n",
            "|Clifton Cunningham and Lassina Dembele      |\n",
            "|Koichi Fujii                                |\n",
            "|Norio Konno                                 |\n",
            "|Simon J.A. Malham and Anke Wiese            |\n",
            "|Robert P. C. de Marrais                     |\n",
            "|P\\'eter E. Frenkel                          |\n",
            "|Mihai Popa                                  |\n",
            "|Debashish Goswami                           |\n",
            "|I. Csiszar, F. Hiai and D. Petz             |\n",
            "|Mikkel {\\O}bro                              |\n",
            "|Nabil L. Youssef, S. H. Abed and A. Soleiman|\n",
            "|Boris Rubin                                 |\n",
            "|A. I. Molev                                 |\n",
            "|Branko J. Malesevic                         |\n",
            "|John W. Robertson                           |\n",
            "|Yu.N. Kosovtsov                             |\n",
            "|Osamu Fujino                                |\n",
            "+--------------------------------------------+\n",
            "only showing top 20 rows\n",
            "\n"
          ]
        }
      ]
    },
    {
      "cell_type": "code",
      "source": [
        "###KPI-2  GET LICENSE WITH 5 OR MORE LETTERS IN THE \"ABSTRACT\"\n",
        "\n",
        "sql_query=\"\"\"\n",
        "              select license from archive  where abstract  REGEXP '%\\(([A-Za-z][^_ /\\\\<>$]{5,})\\)%'\n",
        "\n",
        "          \"\"\"\n",
        "\n",
        "result=spark.sql(sql_query).show(truncate=False)\n"
      ],
      "metadata": {
        "colab": {
          "base_uri": "https://localhost:8080/"
        },
        "id": "twTtpzbNa12h",
        "outputId": "868537f5-78a3-4693-96a5-b9c5f41f00f4"
      },
      "execution_count": 51,
      "outputs": [
        {
          "output_type": "stream",
          "name": "stdout",
          "text": [
            "+---------------------------------------------------+\n",
            "|license                                            |\n",
            "+---------------------------------------------------+\n",
            "|http://arxiv.org/licenses/nonexclusive-distrib/1.0/|\n",
            "|http://arxiv.org/licenses/nonexclusive-distrib/1.0/|\n",
            "|http://arxiv.org/licenses/nonexclusive-distrib/1.0/|\n",
            "|http://arxiv.org/licenses/nonexclusive-distrib/1.0/|\n",
            "|http://arxiv.org/licenses/nonexclusive-distrib/1.0/|\n",
            "|http://arxiv.org/licenses/nonexclusive-distrib/1.0/|\n",
            "|http://arxiv.org/licenses/nonexclusive-distrib/1.0/|\n",
            "|http://creativecommons.org/licenses/by/4.0/        |\n",
            "|http://creativecommons.org/licenses/by/4.0/        |\n",
            "|http://arxiv.org/licenses/nonexclusive-distrib/1.0/|\n",
            "|http://arxiv.org/licenses/nonexclusive-distrib/1.0/|\n",
            "|http://arxiv.org/licenses/nonexclusive-distrib/1.0/|\n",
            "|http://arxiv.org/licenses/nonexclusive-distrib/1.0/|\n",
            "|http://creativecommons.org/licenses/by-nc-sa/4.0/  |\n",
            "|http://creativecommons.org/licenses/by-nc-nd/4.0/  |\n",
            "|http://arxiv.org/licenses/nonexclusive-distrib/1.0/|\n",
            "|http://creativecommons.org/licenses/by/4.0/        |\n",
            "|http://arxiv.org/licenses/nonexclusive-distrib/1.0/|\n",
            "|http://arxiv.org/licenses/nonexclusive-distrib/1.0/|\n",
            "|unknown                                            |\n",
            "+---------------------------------------------------+\n",
            "\n"
          ]
        }
      ]
    },
    {
      "cell_type": "code",
      "source": [
        "###KPI-3  Extract the stats of the number of pages of unknown license\n",
        "import re\n",
        "def get_page(line):\n",
        "  search=re.findall('\\d+ pages',line)      ### \\d+  search for number 1 or more , space,  after sapce pages'\n",
        "  if search:\n",
        "    return int(search[0].split(\" \")[0])        #### split with space and pick only number\n",
        "  else:\n",
        "    return 0\n"
      ],
      "metadata": {
        "id": "b295oxtPdo3I"
      },
      "execution_count": 55,
      "outputs": []
    },
    {
      "cell_type": "code",
      "source": [
        "spark.udf.register(\"get_page\",get_page)"
      ],
      "metadata": {
        "colab": {
          "base_uri": "https://localhost:8080/"
        },
        "id": "VbM20cMJfS1-",
        "outputId": "a1668b9e-f415-4bed-a892-ee37e60269bb"
      },
      "execution_count": 58,
      "outputs": [
        {
          "output_type": "execute_result",
          "data": {
            "text/plain": [
              "<function __main__.get_page(line)>"
            ]
          },
          "metadata": {},
          "execution_count": 58
        }
      ]
    },
    {
      "cell_type": "code",
      "source": [
        "sql_query=\"\"\"select avg(get_page(comments)) as avg ,sum(get_page(comments)) as sum, std(get_page(comments)) as std from archive where  license='unknown' \"\"\"\n",
        "\n",
        "result=spark.sql(sql_query).show()"
      ],
      "metadata": {
        "colab": {
          "base_uri": "https://localhost:8080/"
        },
        "id": "RXhXymuyfVdR",
        "outputId": "9fc036ab-4328-46f3-f22e-03ac50c0e451"
      },
      "execution_count": 59,
      "outputs": [
        {
          "output_type": "stream",
          "name": "stdout",
          "text": [
            "+------------------+---------+------------------+\n",
            "|               avg|      sum|               std|\n",
            "+------------------+---------+------------------+\n",
            "|13.365886832870077|5640578.0|16.775196504270717|\n",
            "+------------------+---------+------------------+\n",
            "\n"
          ]
        }
      ]
    },
    {
      "cell_type": "code",
      "source": [],
      "metadata": {
        "id": "--dgBOlMhw6E"
      },
      "execution_count": 74,
      "outputs": []
    },
    {
      "cell_type": "code",
      "source": [],
      "metadata": {
        "id": "dU9IJ76Figcz"
      },
      "execution_count": null,
      "outputs": []
    }
  ]
}